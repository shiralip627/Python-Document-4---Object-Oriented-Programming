{
  "cells": [
    {
      "cell_type": "markdown",
      "metadata": {
        "id": "VJq50f8HGe--"
      },
      "source": [
        "# Object-Oriented-Programming (OOP)"
      ]
    },
    {
      "cell_type": "markdown",
      "metadata": {
        "id": "KLeNL-5NGe_B"
      },
      "source": [
        "## Tasks Today:\n",
        "\n",
        "   \n",
        "\n",
        "1) <b>Creating a Class (Initializing/Declaring)</b> <br>\n",
        "2) <b>Using a Class (Instantiating)</b> <br>\n",
        " &nbsp;&nbsp;&nbsp;&nbsp; a) Creating One Instance <br>\n",
        " &nbsp;&nbsp;&nbsp;&nbsp; b) Creating Multiple Instances <br>\n",
        " &nbsp;&nbsp;&nbsp;&nbsp; c) In-Class Exercise #1 - Create a Class 'Car' and instantiate three different makes of cars <br>\n",
        "3) <b>The \\__init\\__() Method</b> <br>\n",
        " &nbsp;&nbsp;&nbsp;&nbsp; a) The 'self' Attribute <br>\n",
        "4) <b>Class Attributes</b> <br>\n",
        " &nbsp;&nbsp;&nbsp;&nbsp; a) Initializing Attributes <br>\n",
        " &nbsp;&nbsp;&nbsp;&nbsp; b) Setting an Attribute Outside of the \\__init\\__() Method <br>\n",
        " &nbsp;&nbsp;&nbsp;&nbsp; c) Setting Defaults for Attributes <br>\n",
        " &nbsp;&nbsp;&nbsp;&nbsp; d) Accessing Class Attributes <br>\n",
        " &nbsp;&nbsp;&nbsp;&nbsp; e) Changing Class Attributes <br>\n",
        " &nbsp;&nbsp;&nbsp;&nbsp; f) In-Class Exercise #2 - Add a color and wheels attribute to your 'Car' class <br>\n",
        "5) <b>Class Methods</b> <br>\n",
        " &nbsp;&nbsp;&nbsp;&nbsp; a) Creating <br>\n",
        " &nbsp;&nbsp;&nbsp;&nbsp; b) Calling <br>\n",
        " &nbsp;&nbsp;&nbsp;&nbsp; c) Modifying an Attribute's Value Through a Method <br>\n",
        " &nbsp;&nbsp;&nbsp;&nbsp; d) Incrementing an Attribute's Value Through a Method <br>\n",
        " &nbsp;&nbsp;&nbsp;&nbsp; e) In-Class Exercise #3 - Add a method that prints the cars color and wheel number, then call them <br>\n",
        "6) <b>Inheritance</b> <br>\n",
        " &nbsp;&nbsp;&nbsp;&nbsp; a) Syntax for Inheriting from a Parent Class <br>\n",
        " &nbsp;&nbsp;&nbsp;&nbsp; b) The \\__init\\__() Method for a Child Class (super()) <br>\n",
        " &nbsp;&nbsp;&nbsp;&nbsp; c) Defining Attributes and Methods for the Child Class <br>\n",
        " &nbsp;&nbsp;&nbsp;&nbsp; d) Method Overriding <br>\n",
        " &nbsp;&nbsp;&nbsp;&nbsp; e) In-Class Exercise #4 - Create a class 'Ford' that inherits from 'Car' class and initialize it as a Blue Ford Explorer with 4 wheels using the super() method <br>\n",
        "7) <b>Classes as Attributes</b> <br>\n",
        "8) <b>Exercises</b> <br>\n",
        " &nbsp;&nbsp;&nbsp;&nbsp; a) Exercise #1 - Turn the shopping cart program from yesterday into an object-oriented program <br>"
      ]
    },
    {
      "cell_type": "markdown",
      "metadata": {
        "id": "z1tzkLW3Ge_D"
      },
      "source": [
        "## Creating a Class (Initializing/Declaring)\n",
        "<p>When creating a class, function, or even a variable you are initializing that object. Initializing and Declaring occur at the same time in Python, whereas in lower level languages you have to declare an object before initializing it. This is the first step in the process of using a class.</p>"
      ]
    },
    {
      "cell_type": "code",
      "execution_count": null,
      "metadata": {
        "id": "Aqsr9j0pGe_D"
      },
      "outputs": [],
      "source": [
        "# Always capitalize classes.\n",
        "class Car():\n",
        "    wheels = 4\n",
        "    color = 'blue'"
      ]
    },
    {
      "cell_type": "markdown",
      "metadata": {
        "id": "WfhqnabpGe_E"
      },
      "source": [
        "## Using a Class (Instantiating)\n",
        "<p>The process of creating a class is called <i>Instantiating</i>. Each time you create a variable of that type of class, it is referred to as an <i>Instance</i> of that class. This is the second step in the process of using a class.</p>"
      ]
    },
    {
      "cell_type": "markdown",
      "metadata": {
        "id": "8gxAXPWTGe_F"
      },
      "source": [
        "##### Creating One Instance"
      ]
    },
    {
      "cell_type": "code",
      "execution_count": null,
      "metadata": {
        "id": "gcDPevqHGe_F",
        "outputId": "c184de3b-dc30-48c0-cd54-0593a88fcedb",
        "colab": {
          "base_uri": "https://localhost:8080/"
        }
      },
      "outputs": [
        {
          "output_type": "stream",
          "name": "stdout",
          "text": [
            "4\n"
          ]
        }
      ],
      "source": [
        "ford = Car()\n",
        "print(ford.wheels)"
      ]
    },
    {
      "cell_type": "markdown",
      "metadata": {
        "id": "Qv2fBRJ8Ge_F"
      },
      "source": [
        "##### Creating Multiple Instances"
      ]
    },
    {
      "cell_type": "code",
      "execution_count": null,
      "metadata": {
        "id": "L432Ke9LGe_G",
        "outputId": "c8291943-ed61-4315-a02e-f69cd6fecac7",
        "colab": {
          "base_uri": "https://localhost:8080/"
        }
      },
      "outputs": [
        {
          "output_type": "stream",
          "name": "stdout",
          "text": [
            "<class 'str'>\n"
          ]
        }
      ],
      "source": [
        "chevy = Car()\n",
        "honda = Car()\n",
        "porsche = Car()\n",
        "\n",
        "print(type(porsche.color))"
      ]
    },
    {
      "cell_type": "markdown",
      "metadata": {
        "id": "M6fhy29NGe_G"
      },
      "source": [
        "##### In-Class Exercise #1 - Create a Class 'Car' and Instantiate three different makes of cars"
      ]
    },
    {
      "cell_type": "code",
      "execution_count": null,
      "metadata": {
        "id": "pmD9KaBLGe_G",
        "outputId": "82905105-3fcd-434c-b296-85ff5f0c4d2a",
        "colab": {
          "base_uri": "https://localhost:8080/"
        }
      },
      "outputs": [
        {
          "output_type": "stream",
          "name": "stdout",
          "text": [
            "('toyota', 'honda', 'ford')\n"
          ]
        }
      ],
      "source": [
        "class Car():\n",
        "  make = 'toyota', 'honda', 'ford'\n",
        "\n",
        "print(Car.make)"
      ]
    },
    {
      "cell_type": "markdown",
      "metadata": {
        "id": "YNVAO1IXGe_G"
      },
      "source": [
        "## The \\__init\\__() Method <br>\n",
        "<p>This method is used in almost every created class, and called only once upon the creation of the class instance. This method will initialize all variables needed for the object.</p>"
      ]
    },
    {
      "cell_type": "code",
      "execution_count": null,
      "metadata": {
        "id": "zEAIKX-JGe_G",
        "outputId": "4047a809-f67b-4ed7-e742-d9b6ed22de14",
        "colab": {
          "base_uri": "https://localhost:8080/"
        }
      },
      "outputs": [
        {
          "output_type": "stream",
          "name": "stdout",
          "text": [
            "4\n",
            "6\n"
          ]
        }
      ],
      "source": [
        "# __mifflin__ is Dunder Mifflin (double underscore = double under = dunder)\n",
        "\n",
        "class Car():\n",
        "  engine = '4.7L' # Constant Attribute\n",
        "\n",
        "  def __init__(self, wheels, color):\n",
        "    self.wheels = wheels\n",
        "    self.color = color\n",
        "\n",
        "ford = Car(4, 'red')\n",
        "chevy = Car(6, 'black')\n",
        "\n",
        "print(ford.wheels)\n",
        "print(chevy.wheels)"
      ]
    },
    {
      "cell_type": "markdown",
      "metadata": {
        "id": "sv_7NPcoGe_H"
      },
      "source": [
        "##### The 'self' Attribute <br>\n",
        "<p>This attribute is required to keep track of specific instance's attributes. Without the self attribute, the program would not know how to reference or keep track of an instance's attributes.</p>"
      ]
    },
    {
      "cell_type": "code",
      "execution_count": null,
      "metadata": {
        "id": "OEEDgQlcGe_H"
      },
      "outputs": [],
      "source": [
        "# See above."
      ]
    },
    {
      "cell_type": "markdown",
      "metadata": {
        "id": "UR0agsGjGe_H"
      },
      "source": [
        "## Class Attributes <br>\n",
        "<p>While variables are inside of a class, they are referred to as attributes and not variables. When someone says 'attribute' you know they're speaking about a class. Attributes can be initialized through the init method, or outside of it.</p>"
      ]
    },
    {
      "cell_type": "markdown",
      "metadata": {
        "id": "rGCTp8skGe_H"
      },
      "source": [
        "##### Initializing Attributes"
      ]
    },
    {
      "cell_type": "code",
      "execution_count": null,
      "metadata": {
        "id": "WxI13m0ZGe_H"
      },
      "outputs": [],
      "source": [
        "class Toy():\n",
        "  kind = 'car'\n",
        "\n",
        "  def __init__(self, rooftop, horn, wheels = 4):\n",
        "    self.rooftop = rooftop\n",
        "    self.horn = horn\n",
        "    self.wheels = wheels\n",
        "\n",
        "tonka_truck = Toy(1,1)\n",
        "hot_wheels = Toy(2,3,8)"
      ]
    },
    {
      "cell_type": "markdown",
      "metadata": {
        "id": "hbPHpkc-Ge_H"
      },
      "source": [
        "##### Accessing Class Attributes"
      ]
    },
    {
      "cell_type": "code",
      "execution_count": null,
      "metadata": {
        "scrolled": true,
        "id": "7qLIsumaGe_H",
        "outputId": "7d645795-1822-48e9-a24c-4624094ff78f",
        "colab": {
          "base_uri": "https://localhost:8080/"
        }
      },
      "outputs": [
        {
          "output_type": "stream",
          "name": "stdout",
          "text": [
            "1\n",
            "8\n"
          ]
        }
      ],
      "source": [
        "# See above.\n",
        "\n",
        "print(tonka_truck.horn)\n",
        "print(hot_wheels.wheels)"
      ]
    },
    {
      "cell_type": "markdown",
      "metadata": {
        "id": "nj9iL8gMGe_H"
      },
      "source": [
        "##### Setting Defaults for Attributes"
      ]
    },
    {
      "cell_type": "code",
      "execution_count": null,
      "metadata": {
        "id": "ih-fUrsSGe_H",
        "outputId": "8c8296f0-7a64-4f8f-b260-04167b440125",
        "colab": {
          "base_uri": "https://localhost:8080/"
        }
      },
      "outputs": [
        {
          "output_type": "stream",
          "name": "stdout",
          "text": [
            "blue\n",
            "4\n"
          ]
        }
      ],
      "source": [
        "class Car():\n",
        "  engine = '4.7L'\n",
        "\n",
        "  def __init__(self, wheels):\n",
        "    self.wheels = wheels\n",
        "    self.color = 'blue'\n",
        "\n",
        "honda = Car(4)\n",
        "print(honda.color)\n",
        "print(honda.wheels)"
      ]
    },
    {
      "cell_type": "markdown",
      "metadata": {
        "id": "uzAcwQzbGe_H"
      },
      "source": [
        "##### Changing Class Attributes <br>\n",
        "<p>Keep in mind there are global class attributes and then there are attributes only available to each class instance which won't effect other classes.</p>"
      ]
    },
    {
      "cell_type": "code",
      "execution_count": null,
      "metadata": {
        "id": "oIW6Iz8oGe_I"
      },
      "outputs": [],
      "source": [
        "See above."
      ]
    },
    {
      "cell_type": "markdown",
      "metadata": {
        "id": "Dtul6WstGe_I"
      },
      "source": [
        "##### In-Class Exercise #2 - Add a doors and seats attribute to your 'Car' class then print out two different instances with different doors and seats"
      ]
    },
    {
      "cell_type": "code",
      "execution_count": null,
      "metadata": {
        "id": "bfwSrVMUGe_I",
        "outputId": "73fb71f4-07b8-4aff-bb20-2d99726e596f",
        "colab": {
          "base_uri": "https://localhost:8080/"
        }
      },
      "outputs": [
        {
          "output_type": "stream",
          "name": "stdout",
          "text": [
            "4\n",
            "5\n"
          ]
        }
      ],
      "source": [
        "class Car():\n",
        "  make = 'toyota', 'honda', 'ford'\n",
        "\n",
        "  def __init__(self, doors, seats):\n",
        "    self.doors = doors\n",
        "    self.seats = seats\n",
        "\n",
        "toyota = Car(4,7)\n",
        "honda = Car(4,5)\n",
        "\n",
        "\n",
        "print(toyota.doors)\n",
        "print(honda.seats)"
      ]
    },
    {
      "cell_type": "markdown",
      "metadata": {
        "id": "nyqlnNfRGe_I"
      },
      "source": [
        "## Class Methods <br>\n",
        "<p>While inside of a class, functions are referred to as 'methods'. If you hear someone mention methods, they're speaking about classes. Methods are essentially functions, but only callable on the instances of a class.</p>"
      ]
    },
    {
      "cell_type": "markdown",
      "metadata": {
        "id": "F-VGMe_bGe_I"
      },
      "source": [
        "##### Creating"
      ]
    },
    {
      "cell_type": "code",
      "execution_count": null,
      "metadata": {
        "id": "esSDIAdWGe_I"
      },
      "outputs": [],
      "source": [
        "class ShoppingBag():\n",
        "\n",
        "  '''\n",
        "    The shopping bag class will have handles, capacity, and items placed inside\n",
        "    Attributes for the class:\n",
        "      - handles: expected to be an integer\n",
        "      - capacity: expected to be an integer\n",
        "      - items: expected to be a list\n",
        "  '''\n",
        "\n",
        "  def __init__(self, handles, items = [], capacity = 10):\n",
        "    self.handles = handles\n",
        "    self.items = items\n",
        "    self.capacity = capacity\n",
        "\n",
        "  def showShoppingBag(self):\n",
        "    if len(self.items) == 0:\n",
        "      print(\"You have no items.\")\n",
        "    else:\n",
        "      print(\"You have items in your bag!\")\n",
        "      for item in self.items:\n",
        "        print(item)\n",
        "\n",
        "  def showCapacity(self):\n",
        "    print(f'Your remaining capacity is: {self.capacity - len(self.items)}')\n",
        "\n",
        "  def addToShoppingBag(self): # If capacity is full, reject new items.\n",
        "    if len(self.items) == self.capacity:\n",
        "      print(\"You have no room!\")\n",
        "    else:\n",
        "      product = input('What would you like to add? ')\n",
        "      self.items.append(product)\n",
        "\n",
        "  def showHandles(self):\n",
        "    print(f'You have {self.handles} handles on your bag.')"
      ]
    },
    {
      "cell_type": "markdown",
      "metadata": {
        "id": "onUK4qqYGe_I"
      },
      "source": [
        "##### Calling"
      ]
    },
    {
      "cell_type": "code",
      "execution_count": null,
      "metadata": {
        "id": "koWXqMEmGe_I",
        "outputId": "3ed26cbd-070d-422d-b5c8-df1a3509686c",
        "colab": {
          "base_uri": "https://localhost:8080/"
        }
      },
      "outputs": [
        {
          "output_type": "stream",
          "name": "stdout",
          "text": [
            "\n",
            "What would you like to do?\n",
            "You may:\n",
            "- Add\n",
            "- Show\n",
            "- Quit\n",
            "add\n",
            "What would you like to add? cheese\n",
            "\n",
            "What would you like to do?\n",
            "You may:\n",
            "- Add\n",
            "- Show\n",
            "- Quit\n",
            "show\n",
            "\n",
            "What would you like to see?\n",
            "- Capacity\n",
            "- Handles\n",
            "- Shopping Bag\n",
            "shopping bag\n",
            "You have items in your bag!\n",
            "cheese\n",
            "\n",
            "What would you like to do?\n",
            "You may:\n",
            "- Add\n",
            "- Show\n",
            "- Quit\n",
            "quit\n",
            "You have items in your bag!\n",
            "cheese\n",
            "Thanks for shopping!\n"
          ]
        }
      ],
      "source": [
        "# See above.\n",
        "\n",
        "wholeFoodsBag = ShoppingBag(2)\n",
        "\n",
        "def run():\n",
        "  while True:\n",
        "    response = input(\"\\nWhat would you like to do?\\nYou may:\\n- Add\\n- Show\\n- Quit\\n\")\n",
        "    if response.lower() == 'quit':\n",
        "      wholeFoodsBag.showShoppingBag()\n",
        "      print(\"Thanks for shopping!\")\n",
        "      break\n",
        "    elif response.lower() == 'add':\n",
        "      wholeFoodsBag.addToShoppingBag()\n",
        "    elif response.lower() == 'show':\n",
        "      showChoice = input(\"\\nWhat would you like to see?\\n- Capacity\\n- Handles\\n- Shopping Bag\\n\")\n",
        "      if showChoice.lower == 'capacity':\n",
        "        wholeFoodsBag.showCapacity()\n",
        "      elif showChoice.lower() == 'handles':\n",
        "        wholeFoodsBag.showHandles()\n",
        "      else:\n",
        "        wholeFoodsBag.showShoppingBag()\n",
        "    else:\n",
        "      print(\"That is not a valid option. Please enter add, show, or quit.\")\n",
        "run()"
      ]
    },
    {
      "cell_type": "markdown",
      "metadata": {
        "id": "BD7SjLUqGe_I"
      },
      "source": [
        "##### Modifying an Attribute's Value Through a Method"
      ]
    },
    {
      "cell_type": "code",
      "execution_count": null,
      "metadata": {
        "id": "TCHT6PKjGe_I"
      },
      "outputs": [],
      "source": []
    },
    {
      "cell_type": "markdown",
      "metadata": {
        "id": "5tKL1vUeGe_I"
      },
      "source": [
        "##### Incrementing an Attribute's Value Through a Method"
      ]
    },
    {
      "cell_type": "code",
      "execution_count": null,
      "metadata": {
        "id": "ZWTxsm4QGe_I"
      },
      "outputs": [],
      "source": []
    },
    {
      "cell_type": "markdown",
      "metadata": {
        "id": "pky1wU4sGe_I"
      },
      "source": [
        "##### In-Class Exercise #3 - Add a method that takes in three parameters of year, doors and seats and prints out a formatted print statement with make, model, year, seats, and doors"
      ]
    },
    {
      "cell_type": "code",
      "execution_count": null,
      "metadata": {
        "id": "EUN_Tx9rGe_I",
        "outputId": "bfcf4c1e-6a21-4727-d471-46664698729a",
        "colab": {
          "base_uri": "https://localhost:8080/"
        }
      },
      "outputs": [
        {
          "output_type": "stream",
          "name": "stdout",
          "text": [
            "Enter the make of the car: Camry\n",
            "Enter the model of the car: LE\n",
            "Enter the year of the car: 2019\n",
            "Enter the number of doors: 4\n",
            "Enter the number of seats: 5\n",
            "This car is from 2019 and is a Camry LE and has 4 doors and 5 seats.\n"
          ]
        }
      ],
      "source": [
        "# Create class with 2 paramters inside of the __init__ which are make and model.\n",
        "\n",
        "# Inside of the Car class create a method that has 4 parameters in total (self, year, doors, seats).\n",
        "\n",
        "# Output: This car is from 2019 and is a Ford Expolorer and has 4 doors and 5 seats.\n",
        "\n",
        "class Car():\n",
        "\n",
        "  def __init__(self, make, model):\n",
        "    self.make = make\n",
        "    self.model = model\n",
        "\n",
        "  def car_information(self,year, doors, seats):\n",
        "    print(f'This car is from {year} and is a {self.make} {self.model} and has {doors} doors and {seats} seats.')\n",
        "\n",
        "  def create_from_input():\n",
        "    make = input(\"Enter the make of the car: \")\n",
        "    model = input(\"Enter the model of the car: \")\n",
        "    year = int(input(\"Enter the year of the car: \"))\n",
        "    doors = int(input(\"Enter the number of doors: \"))\n",
        "    seats = int(input(\"Enter the number of seats: \"))\n",
        "\n",
        "    return Car(make, model), year, doors, seats\n",
        "\n",
        "car_instance, year, doors, seats = Car.create_from_input()\n",
        "car_instance.car_information(year, doors, seats)"
      ]
    },
    {
      "cell_type": "markdown",
      "metadata": {
        "id": "S9gjNVRhGe_J"
      },
      "source": [
        "## Inheritance <br>\n",
        "<p>You can create a child-parent relationship between two classes by using inheritance. What this allows you to do is have overriding methods, but also inherit traits from the parent class. Think of it as an actual parent and child, the child will inherit the parent's genes, as will the classes in OOP</p>"
      ]
    },
    {
      "cell_type": "markdown",
      "metadata": {
        "id": "1tQYjswXGe_P"
      },
      "source": [
        "##### Syntax for Inheriting from a Parent Class"
      ]
    },
    {
      "cell_type": "code",
      "execution_count": null,
      "metadata": {
        "id": "GovO0-v9Ge_P"
      },
      "outputs": [],
      "source": []
    },
    {
      "cell_type": "markdown",
      "metadata": {
        "id": "QSj8mGkdGe_P"
      },
      "source": [
        "##### The \\__init\\__() Method for a Child Class - super()"
      ]
    },
    {
      "cell_type": "code",
      "execution_count": null,
      "metadata": {
        "scrolled": true,
        "id": "N5XLYU7FGe_Q"
      },
      "outputs": [],
      "source": []
    },
    {
      "cell_type": "markdown",
      "metadata": {
        "id": "hZsxXI6zGe_Q"
      },
      "source": [
        "##### Defining Attributes and Methods for the Child Class"
      ]
    },
    {
      "cell_type": "code",
      "execution_count": null,
      "metadata": {
        "id": "qApY_Xh6Ge_Q"
      },
      "outputs": [],
      "source": [
        "# See Above"
      ]
    },
    {
      "cell_type": "markdown",
      "metadata": {
        "id": "jt635CzgGe_Q"
      },
      "source": [
        "##### Method Overriding"
      ]
    },
    {
      "cell_type": "code",
      "execution_count": null,
      "metadata": {
        "id": "R8M39ldwGe_Q"
      },
      "outputs": [],
      "source": [
        "# See Above"
      ]
    },
    {
      "cell_type": "markdown",
      "metadata": {
        "id": "mS3GN4V_Ge_Q"
      },
      "source": [
        "## Classes as Attributes <br>\n",
        "<p>Classes can also be used as attributes within another class. This is useful in situations where you need to keep variables locally stored, instead of globally stored.</p>"
      ]
    },
    {
      "cell_type": "code",
      "execution_count": null,
      "metadata": {
        "id": "Myw7L6RxGe_Q"
      },
      "outputs": [],
      "source": []
    },
    {
      "cell_type": "markdown",
      "metadata": {
        "id": "o7-86urQGe_Q"
      },
      "source": [
        "# Exercises"
      ]
    },
    {
      "cell_type": "markdown",
      "metadata": {
        "id": "E_ifXl77Ge_Q"
      },
      "source": [
        "### Exercise 1 - Turn the shopping cart program from yesterday into an object-oriented program\n",
        "\n",
        "The comments in the cell below are there as a guide for thinking about the problem. However, if you feel a different way is best for you and your own thought process, please do what feels best for you by all means."
      ]
    },
    {
      "cell_type": "code",
      "execution_count": null,
      "metadata": {
        "id": "IPHA-ZEIGe_Q"
      },
      "outputs": [],
      "source": [
        "# Create a class called cart that retains items and has methods to add, remove, and show\n",
        "\n",
        "class Cart():\n",
        "    pass\n"
      ]
    },
    {
      "cell_type": "markdown",
      "metadata": {
        "id": "25GlPZWBGe_Q"
      },
      "source": [
        "### Exercise 2 - Write a Python class which has two methods get_String and print_String. get_String accept a string from the user and print_String print the string in upper case"
      ]
    },
    {
      "cell_type": "code",
      "execution_count": null,
      "metadata": {
        "id": "JZoGfK2mGe_R"
      },
      "outputs": [],
      "source": []
    }
  ],
  "metadata": {
    "kernelspec": {
      "display_name": "Python 3",
      "language": "python",
      "name": "python3"
    },
    "language_info": {
      "codemirror_mode": {
        "name": "ipython",
        "version": 3
      },
      "file_extension": ".py",
      "mimetype": "text/x-python",
      "name": "python",
      "nbconvert_exporter": "python",
      "pygments_lexer": "ipython3",
      "version": "3.8.5"
    },
    "colab": {
      "provenance": []
    }
  },
  "nbformat": 4,
  "nbformat_minor": 0
}